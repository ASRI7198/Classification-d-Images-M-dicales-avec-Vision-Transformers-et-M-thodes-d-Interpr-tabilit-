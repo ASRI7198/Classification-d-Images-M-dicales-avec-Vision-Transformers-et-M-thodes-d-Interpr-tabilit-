{
 "cells": [
  {
   "cell_type": "code",
   "execution_count": 5,
   "id": "15bf4634",
   "metadata": {},
   "outputs": [],
   "source": [
    "from VisionTransformerBase import ViT\n",
    "import torch "
   ]
  },
  {
   "cell_type": "code",
   "execution_count": 9,
   "id": "5abceb86",
   "metadata": {},
   "outputs": [],
   "source": []
  },
  {
   "cell_type": "code",
   "execution_count": 19,
   "id": "a8666871",
   "metadata": {},
   "outputs": [
    {
     "name": "stdout",
     "output_type": "stream",
     "text": [
      "torch.Size([1, 2])\n"
     ]
    }
   ],
   "source": [
    "model = ViT(in_channels=1,img_size=(224,224,224),patch_size=(16,16,16),classification=True,num_classes=2)\n",
    "model_input = torch.rand(1,1,224,224,224)\n",
    "output = model(model_input)[0]\n",
    "print(output.shape)"
   ]
  },
  {
   "cell_type": "code",
   "execution_count": null,
   "id": "8e22741c",
   "metadata": {},
   "outputs": [],
   "source": []
  }
 ],
 "metadata": {
  "kernelspec": {
   "display_name": "Python 3 (ipykernel)",
   "language": "python",
   "name": "python3"
  },
  "language_info": {
   "codemirror_mode": {
    "name": "ipython",
    "version": 3
   },
   "file_extension": ".py",
   "mimetype": "text/x-python",
   "name": "python",
   "nbconvert_exporter": "python",
   "pygments_lexer": "ipython3",
   "version": "3.8.15"
  }
 },
 "nbformat": 4,
 "nbformat_minor": 5
}
